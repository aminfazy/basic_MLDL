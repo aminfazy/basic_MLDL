{
 "cells": [
  {
   "cell_type": "markdown",
   "metadata": {},
   "source": [
    "## This is a simple example of AND gate using neural network "
   ]
  },
  {
   "cell_type": "code",
   "execution_count": null,
   "metadata": {},
   "outputs": [],
   "source": [
    "import numpy as np\n",
    "from keras.models import Sequential\n",
    "from keras.layers import Dense"
   ]
  },
  {
   "cell_type": "code",
   "execution_count": null,
   "metadata": {},
   "outputs": [],
   "source": [
    "# The input and output\n",
    "# This will be used to train the network\n",
    "\n",
    "# Input to the gate\n",
    "x_train = np.array([[0,0],[0,1],[1,0],[1,1]], \"uint8\") \n",
    "\n",
    "# Ouput of the gate, the truth value\n",
    "y_train = np.array([[0],[0],[0],[1]], \"uint8\")\n",
    " "
   ]
  },
  {
   "cell_type": "code",
   "execution_count": null,
   "metadata": {},
   "outputs": [],
   "source": [
    "# Create neural networks model\n",
    "# A sequential model is one where layers are stacked one\n",
    "# after another and there is not skipping, feedback and\n",
    "# distributed connection\n",
    "model = Sequential()\n",
    "\n",
    "# Add layers to the model\n",
    "model.add(Dense(output_dim=1, activation='sigmoid', input_dim=2))      # first hidden layer\n",
    " "
   ]
  },
  {
   "cell_type": "code",
   "execution_count": null,
   "metadata": {},
   "outputs": [],
   "source": [
    "# Compile the neural networks model\n",
    "model.compile(optimizer='adam', loss='binary_crossentropy', metrics=['accuracy'])\n",
    "# Train the neural networks model\n",
    "model.fit(x_train, y_train, nb_epoch=1000)\n",
    " "
   ]
  },
  {
   "cell_type": "code",
   "execution_count": null,
   "metadata": {},
   "outputs": [],
   "source": [
    "# Test the output of the trained neural networks based NAND gate\n",
    "y_predict = model.predict(x_train)\n",
    "print(y_predict)\n",
    " \n",
    "# save model as h5 file\n",
    "model.save(\"nand.h5\")"
   ]
  }
 ],
 "metadata": {
  "kernelspec": {
   "display_name": "Python 2",
   "language": "python",
   "name": "python2"
  },
  "language_info": {
   "codemirror_mode": {
    "name": "ipython",
    "version": 2
   },
   "file_extension": ".py",
   "mimetype": "text/x-python",
   "name": "python",
   "nbconvert_exporter": "python",
   "pygments_lexer": "ipython2",
   "version": "2.7.16"
  }
 },
 "nbformat": 4,
 "nbformat_minor": 2
}
