{
  "nbformat": 4,
  "nbformat_minor": 0,
  "metadata": {
    "colab": {
      "name": "rnn.ipynb",
      "provenance": [],
      "collapsed_sections": [],
      "include_colab_link": true
    },
    "kernelspec": {
      "name": "python3",
      "display_name": "Python 3"
    }
  },
  "cells": [
    {
      "cell_type": "markdown",
      "metadata": {
        "id": "view-in-github",
        "colab_type": "text"
      },
      "source": [
        "<a href=\"https://colab.research.google.com/github/aminfazy/basic_MLDL/blob/main/rnn.ipynb\" target=\"_parent\"><img src=\"https://colab.research.google.com/assets/colab-badge.svg\" alt=\"Open In Colab\"/></a>"
      ]
    },
    {
      "cell_type": "markdown",
      "metadata": {
        "id": "-bkinZQoqW48"
      },
      "source": [
        "**RNN example**"
      ]
    },
    {
      "cell_type": "code",
      "metadata": {
        "id": "YvU7IeJcNsQP"
      },
      "source": [
        "# downgrade numpy version....some issues with current version \n",
        "# !pip install numpy==1.16.1\n",
        "import numpy as np\n",
        "\n",
        "# remember to restart runtime"
      ],
      "execution_count": 1,
      "outputs": []
    },
    {
      "cell_type": "code",
      "metadata": {
        "id": "6teOUcJ-kssi"
      },
      "source": [
        "from keras.models import Sequential # importing Sequential model from keras models\n",
        "from keras.layers import Embedding, SimpleRNN # importing Embedding layer and SimpleRNN layer from keras layers"
      ],
      "execution_count": 2,
      "outputs": []
    },
    {
      "cell_type": "markdown",
      "metadata": {
        "id": "-W46iYQa_yGT"
      },
      "source": [
        "# Embedding Layer\n",
        "\n",
        "> details @ https://keras.io/layers/embeddings/\n",
        "\n",
        "> used to create an embedding....embed higher dimensional data into lower dimensional vector space\n",
        "\n",
        "> Embedding layer is the first layer in the model\n",
        "\n",
        "> Keras provides method to add an embedding layer\n",
        "\n",
        "> keras.layers.Embedding(input_dim, output_dim, embeddings_initializer='uniform', .... , input_length=None)\n",
        "\n",
        "> * input_dim: An interger greater than 0 which specifies the size of the vocabulary, i.e. maximum integer index + 1 such that data is integer encoded from 0 - maximum integer index. It can be thought of as the number of distinct words.\n",
        "\n",
        "> * output_dim: An integer greater than 0 which specifies the dimension of vector space in which words will be embedded\n",
        "\n",
        "> * embeddings_initializer: Initializer for the embeddings matrix...Keras provides support to many initializers such as uniform, RandomNormal, RandomUniform, and so on (details @ https://keras.io/initializers/) \n",
        "\n",
        "\n",
        "> * input_length: Length of input sequences, when it is constant. This argument is required if you are going to connect Flatten then Dense layers upstream (without it, the shape of the dense outputs cannot be computed)\n",
        "\n"
      ]
    },
    {
      "cell_type": "markdown",
      "metadata": {
        "id": "-rUy_kYLF7sj"
      },
      "source": [
        "# SimpleRNN\n",
        "\n",
        "\n",
        "---\n",
        "\n",
        "> to add simple recurrent neural network layers\n",
        "\n",
        "> keras.layers.SimpleRNN(units, activation='tanh', use_bias=True, kernel_initializer='glorot_uniform', recurrent_initializer='orthogonal', bias_initializer='zeros', return_sequences=False, return_state=False, ......)\n",
        "\n",
        "> * details @ https://keras.io/layers/recurrent/\n",
        "\n",
        "> * creates Fully-connected RNN where the output is to be fed back to input.\n",
        "\n",
        "> * units: Positive integer, dimensionality of the output space.\n",
        "\n",
        "> * activation: Activation function to use (see activations). Default: hyperbolic tangent (tanh). If you pass None, no activation is applied (ie. \"linear\" activation: a(x) = x).\n",
        "\n",
        "> * use_bias: Boolean, whether the layer uses a bias vector.\n",
        "\n",
        "> * kernel_initializer: Initializer for the kernel weights matrix, used for the linear transformation of the inputs\n",
        "\n",
        "> * return_sequences: Boolean. If true,  returns the full sequences of successive outputs for each timestep (a 3D tensor of shape (batch_size, timesteps, output_features)), however, if false returns only the last output for each input sequence (a 2D tensor of shape (batch_size, output_features))\n",
        "\n"
      ]
    },
    {
      "cell_type": "code",
      "metadata": {
        "id": "eleKvl3iMOUi",
        "colab": {
          "base_uri": "https://localhost:8080/"
        },
        "outputId": "32246d54-9f06-4e40-a22b-76a45ee6c99e"
      },
      "source": [
        "# using a RNN model on the IMDB movie review classification problem\n",
        "\n",
        "# data  preprocessing\n",
        "\n",
        "from keras.datasets import imdb\n",
        "from keras.preprocessing import sequence\n",
        "\n",
        "max_features = 10000  # number of words to consider as features\n",
        "maxlen = 500  # cut texts after this number of words (among top max_features most common words)\n",
        "batch_size = 32\n",
        "\n",
        "print('Loading data...')\n",
        "(input_train, y_train), (input_test, y_test) = imdb.load_data(num_words=max_features)\n",
        "print(len(input_train), 'train sequences')\n",
        "print(len(input_test), 'test sequences')\n",
        "\n",
        "print('Pad sequences (samples x time)')\n",
        "# pad_sequences is used to ensure that all sequences in a list have the same length. \n",
        "# Keras sequence.pad_sequence(): This function transforms a list of num_samples sequences (lists of integers) into a 2D \n",
        "# Numpy array of shape (num_samples, num_timesteps). num_timesteps is either the maxlen argument if provided, or the\n",
        "# length of the longest sequence otherwise.\n",
        "input_train = sequence.pad_sequences(input_train, maxlen=maxlen)\n",
        "input_test = sequence.pad_sequences(input_test, maxlen=maxlen)\n",
        "print('input_train shape:', input_train.shape)\n",
        "print('input_test shape:', input_test.shape)\n"
      ],
      "execution_count": 3,
      "outputs": [
        {
          "output_type": "stream",
          "text": [
            "Loading data...\n",
            "Downloading data from https://storage.googleapis.com/tensorflow/tf-keras-datasets/imdb.npz\n",
            "17465344/17464789 [==============================] - 0s 0us/step\n",
            "25000 train sequences\n",
            "25000 test sequences\n",
            "Pad sequences (samples x time)\n",
            "input_train shape: (25000, 500)\n",
            "input_test shape: (25000, 500)\n"
          ],
          "name": "stdout"
        }
      ]
    },
    {
      "cell_type": "code",
      "metadata": {
        "id": "S5EYei_0LxwS",
        "colab": {
          "base_uri": "https://localhost:8080/"
        },
        "outputId": "11d9d1db-7bc5-43fd-a965-1d5e245c7efb"
      },
      "source": [
        "# define a simple recurrent network using an Embedding layer and a SimpleRNN layer\n",
        "from keras.layers import Dense\n",
        "\n",
        "model = Sequential()\n",
        "model.add(Embedding(max_features, 32))\n",
        "model.add(SimpleRNN(32))\n",
        "model.add(Dense(1, activation='sigmoid'))\n",
        "\n",
        "print (\"keep going...\")\n",
        "\n",
        "# another architecture with 64 features\n",
        "\n",
        "#from keras.layers import Dense\n",
        "\n",
        "#model = Sequential()\n",
        "#model.add(Embedding(max_features, 64))\n",
        "#model.add(SimpleRNN(64))\n",
        "#model.add(Dense(1, activation='sigmoid'))\n",
        "\n",
        "#print (\"keep going...\")\n",
        "\n",
        "# another architecture with 64 features and more layers\n",
        "\n",
        "#from keras.layers import Dense\n",
        "\n",
        "#model = Sequential()\n",
        "#model.add(Embedding(max_features, 64))\n",
        "#model.add(SimpleRNN(64, return_sequences=True))\n",
        "#model.add(SimpleRNN(64, return_sequences=True))\n",
        "#model.add(SimpleRNN(64))\n",
        "#model.add(Dense(1, activation='sigmoid'))\n",
        "\n",
        "#print (\"keep going...\")"
      ],
      "execution_count": 4,
      "outputs": [
        {
          "output_type": "stream",
          "text": [
            "keep going...\n"
          ],
          "name": "stdout"
        }
      ]
    },
    {
      "cell_type": "code",
      "metadata": {
        "id": "up835lxOM7-M",
        "colab": {
          "base_uri": "https://localhost:8080/"
        },
        "outputId": "719964b3-872f-4d54-ca1e-327691795856"
      },
      "source": [
        "# configure learning\n",
        "model.compile(optimizer='rmsprop', loss='binary_crossentropy', metrics=['acc'])\n",
        "\n",
        "print (\"keep going...\")"
      ],
      "execution_count": 5,
      "outputs": [
        {
          "output_type": "stream",
          "text": [
            "keep going...\n"
          ],
          "name": "stdout"
        }
      ]
    },
    {
      "cell_type": "code",
      "metadata": {
        "id": "cW5MfkYwraOV",
        "outputId": "fa238809-396e-47d3-fa58-cbe3696c2e33",
        "colab": {
          "base_uri": "https://localhost:8080/"
        }
      },
      "source": [
        "model.summary()"
      ],
      "execution_count": 6,
      "outputs": [
        {
          "output_type": "stream",
          "text": [
            "Model: \"sequential\"\n",
            "_________________________________________________________________\n",
            "Layer (type)                 Output Shape              Param #   \n",
            "=================================================================\n",
            "embedding (Embedding)        (None, None, 32)          320000    \n",
            "_________________________________________________________________\n",
            "simple_rnn (SimpleRNN)       (None, 32)                2080      \n",
            "_________________________________________________________________\n",
            "dense (Dense)                (None, 1)                 33        \n",
            "=================================================================\n",
            "Total params: 322,113\n",
            "Trainable params: 322,113\n",
            "Non-trainable params: 0\n",
            "_________________________________________________________________\n"
          ],
          "name": "stdout"
        }
      ]
    },
    {
      "cell_type": "code",
      "metadata": {
        "id": "PN18I3gvM8vb",
        "colab": {
          "base_uri": "https://localhost:8080/"
        },
        "outputId": "e0638da5-77fa-4ae3-b425-baed9fcd8fc6"
      },
      "source": [
        "# train \n",
        "history = model.fit(input_train, y_train, epochs=1, batch_size=128, validation_split=0.2)\n",
        "\n",
        "print (\"keep going...\")"
      ],
      "execution_count": 7,
      "outputs": [
        {
          "output_type": "stream",
          "text": [
            "157/157 [==============================] - 22s 143ms/step - loss: 0.6443 - acc: 0.6131 - val_loss: 0.5869 - val_acc: 0.6918\n",
            "keep going...\n"
          ],
          "name": "stdout"
        }
      ]
    },
    {
      "cell_type": "code",
      "metadata": {
        "id": "6kl78tieNM32",
        "colab": {
          "base_uri": "https://localhost:8080/",
          "height": 573
        },
        "outputId": "bd3570be-e457-4edb-e34b-a142cc6945cc"
      },
      "source": [
        "# plot loss and accuracy in training and validation \n",
        "import matplotlib.pyplot as plt\n",
        "\n",
        "acc = history.history['acc']\n",
        "val_acc = history.history['val_acc']\n",
        "loss = history.history['loss']\n",
        "val_loss = history.history['val_loss']\n",
        "\n",
        "epochs = range(len(acc))\n",
        "\n",
        "plt.plot(epochs, acc, 'bo', label='Training acc') # plot epochs and acc using blue circle markers\n",
        "plt.plot(epochs, val_acc, 'b', label='Validation acc') # plot epochs and val_acc using blue line\n",
        "plt.title('Training and validation accuracy')\n",
        "plt.ylabel('accuracy')\n",
        "plt.xlabel('epoch')\n",
        "plt.legend()\n",
        "\n",
        "plt.figure()\n",
        "\n",
        "plt.plot(epochs, loss, 'bo', label='Training loss')\n",
        "plt.plot(epochs, val_loss, 'b', label='Validation loss')\n",
        "plt.title('Training and validation loss')\n",
        "plt.ylabel('loss')\n",
        "plt.xlabel('epoch')\n",
        "plt.legend()\n",
        "\n",
        "plt.show()"
      ],
      "execution_count": null,
      "outputs": [
        {
          "output_type": "display_data",
          "data": {
            "image/png": "[encoded data removed]",
            "text/plain": [
              "<Figure size 432x288 with 1 Axes>"
            ]
          },
          "metadata": {
            "tags": []
          }
        },
        {
          "output_type": "display_data",
          "data": {
            "image/png": "[encoded data removed]",
            "text/plain": [
              "<Figure size 432x288 with 1 Axes>"
            ]
          },
          "metadata": {
            "tags": []
          }
        }
      ]
    },
    {
      "cell_type": "code",
      "metadata": {
        "id": "jlaO06FaT4IP",
        "colab": {
          "base_uri": "https://localhost:8080/",
          "height": 52
        },
        "outputId": "b84b2e74-6616-42c8-a706-2094a4f9d4ec"
      },
      "source": [
        "# Evaluate model\n",
        "scores = model.evaluate(input_test, y_test)\n",
        "print(\"Error: %.2f%%\" % (100-scores[1]*100))"
      ],
      "execution_count": null,
      "outputs": [
        {
          "output_type": "stream",
          "text": [
            "25000/25000 [==============================] - 28s 1ms/step\n",
            "Error: 17.05%\n"
          ],
          "name": "stdout"
        }
      ]
    },
    {
      "cell_type": "code",
      "metadata": {
        "id": "XkBcdHYmxCZZ",
        "colab": {
          "base_uri": "https://localhost:8080/",
          "height": 260
        },
        "outputId": "259dcedc-c7dd-4a94-c477-92473043987e"
      },
      "source": [
        "# print model summary\n",
        "print(model.summary())\n"
      ],
      "execution_count": null,
      "outputs": [
        {
          "output_type": "stream",
          "text": [
            "_________________________________________________________________\n",
            "Layer (type)                 Output Shape              Param #   \n",
            "=================================================================\n",
            "embedding_1 (Embedding)      (None, None, 32)          320000    \n",
            "_________________________________________________________________\n",
            "simple_rnn_1 (SimpleRNN)     (None, 32)                2080      \n",
            "_________________________________________________________________\n",
            "dense_1 (Dense)              (None, 1)                 33        \n",
            "=================================================================\n",
            "Total params: 322,113\n",
            "Trainable params: 322,113\n",
            "Non-trainable params: 0\n",
            "_________________________________________________________________\n",
            "None\n"
          ],
          "name": "stdout"
        }
      ]
    },
    {
      "cell_type": "markdown",
      "metadata": {
        "id": "5mSer0diSpmv"
      },
      "source": [
        "**Few Sources to Explore**\n",
        "\n",
        "\n",
        "---\n",
        "\n",
        " https://github.com/fchollet/deep-learning-with-python-notebooks/blob/master/6.2-understanding-recurrent-neural-networks.ipynb\n",
        "\n",
        "https://machinelearningmastery.com/use-word-embedding-layers-deep-learning-keras/\n",
        "\n",
        "https://keras.io/layers/embeddings/\n",
        "\n",
        "https://keras.io/initializers/\n",
        "\n"
      ]
    }
  ]
}